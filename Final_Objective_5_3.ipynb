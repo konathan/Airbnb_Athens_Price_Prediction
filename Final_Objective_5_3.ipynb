{
  "cells": [
    {
      "cell_type": "markdown",
      "source": [
        "![](https://drive.google.com/uc?export=view&id=1rqx5wh7U-8OdKlr4L38QNGggEXSKyXHC)\n",
        "\n",
        "---"
      ],
      "metadata": {
        "id": "EsI6WZ9TU3aG"
      }
    },
    {
      "cell_type": "markdown",
      "source": [
        "<h1>5.3 Models</h1>"
      ],
      "metadata": {
        "id": "X8aed5UiU_JK"
      }
    },
    {
      "cell_type": "markdown",
      "source": [
        "## Libraries"
      ],
      "metadata": {
        "id": "BD29PntRVKAf"
      }
    },
    {
      "cell_type": "markdown",
      "source": [
        "Importing all the libraries needed for the analysis, reading the file, and preparing the data for model training as per Final_Objective_5_2 (more details can be found in that file)"
      ],
      "metadata": {
        "id": "8HRA0OgaVRPG"
      }
    },
    {
      "cell_type": "code",
      "source": [
        "import pandas as pd\n",
        "from sklearn.model_selection import train_test_split\n",
        "from sklearn.preprocessing import StandardScaler\n",
        "from sklearn.decomposition import PCA\n",
        "from sklearn.linear_model import LinearRegression, Lasso\n",
        "from sklearn.ensemble import RandomForestRegressor\n",
        "from sklearn.svm import SVR\n",
        "import xgboost\n",
        "from sklearn.model_selection import GridSearchCV\n",
        "from sklearn.feature_selection import RFE\n",
        "from sklearn.metrics import mean_absolute_error, mean_squared_error\n",
        "import pickle\n",
        "import warnings"
      ],
      "metadata": {
        "id": "99xOvPJeU3k5"
      },
      "execution_count": null,
      "outputs": []
    },
    {
      "cell_type": "code",
      "source": [
        "warnings.filterwarnings('ignore')"
      ],
      "metadata": {
        "id": "Coy-E_61JCyI"
      },
      "execution_count": 9,
      "outputs": []
    },
    {
      "cell_type": "code",
      "source": [
        "df = pd.read_csv('listings_preprocessed.csv')"
      ],
      "metadata": {
        "id": "_IMnKTJ3Vbg8"
      },
      "execution_count": 10,
      "outputs": []
    },
    {
      "cell_type": "code",
      "source": [
        "drop_columns = ['smoke_alarm','oven','patio_balcony','fire_extinguisher','shower_gel','bathroom_type_shared','price']\n",
        "categorical_features = ['host_identity_verified','host_is_superhost','neighbourhood_cleansed','room_type','instant_bookable','bathroom_type','amenities']\n",
        "numerical_features = ['host_listings_count','accommodates','beds','minimum_nights','maximum_nights','availability_365','number_of_reviews','reviews_per_month','bathroom']\n",
        "amenities_features = ['smoke_alarm','patio_balcony','oven','fire_extiguinsher','shower_gel']"
      ],
      "metadata": {
        "id": "gseQmgE-WULG"
      },
      "execution_count": 11,
      "outputs": []
    },
    {
      "cell_type": "markdown",
      "source": [
        "One-hot encoding of Categorical Features"
      ],
      "metadata": {
        "id": "3sJgl-SQJxTq"
      }
    },
    {
      "cell_type": "code",
      "source": [
        "df = pd.get_dummies(df)"
      ],
      "metadata": {
        "id": "XnSV5_fMV2QG"
      },
      "execution_count": 12,
      "outputs": []
    },
    {
      "cell_type": "markdown",
      "source": [
        "Creating X and y dataframes"
      ],
      "metadata": {
        "id": "5JSTAbsZJnfp"
      }
    },
    {
      "cell_type": "code",
      "source": [
        "X = df.drop(drop_columns, axis=1)\n",
        "y = df['price']"
      ],
      "metadata": {
        "id": "X4BFUKsEVj0A"
      },
      "execution_count": 13,
      "outputs": []
    },
    {
      "cell_type": "markdown",
      "source": [
        "Train and Test dataset splitting"
      ],
      "metadata": {
        "id": "ILL45zSWJi-Y"
      }
    },
    {
      "cell_type": "code",
      "source": [
        "X_train, X_test, y_train, y_test = train_test_split(X, y, test_size=0.2, random_state=42)"
      ],
      "metadata": {
        "id": "EENhXI7mWGVr"
      },
      "execution_count": 14,
      "outputs": []
    },
    {
      "cell_type": "markdown",
      "source": [
        "Standardization and Scaling"
      ],
      "metadata": {
        "id": "N-IysTy4Jf7z"
      }
    },
    {
      "cell_type": "code",
      "source": [
        "sc = StandardScaler()\n",
        "\n",
        "X_sc = sc.fit_transform(X_train[numerical_features])\n",
        "X_sc_test = sc.transform(X_test[numerical_features])\n",
        "\n",
        "X_train[numerical_features] = X_sc\n",
        "X_test[numerical_features] = X_sc_test"
      ],
      "metadata": {
        "id": "n0VkUEYSWL0h"
      },
      "execution_count": 15,
      "outputs": []
    },
    {
      "cell_type": "markdown",
      "source": [
        "PCA"
      ],
      "metadata": {
        "id": "jyTF2Z6rJvb9"
      }
    },
    {
      "cell_type": "code",
      "source": [
        "pca = PCA().fit(X_train)\n",
        "pca = PCA(0.9)\n",
        "X_train_pca = pca.fit_transform(X_train)\n",
        "X_test_pca = pca.transform(X_test)"
      ],
      "metadata": {
        "id": "Hn9BRskQWada"
      },
      "execution_count": 16,
      "outputs": []
    },
    {
      "cell_type": "markdown",
      "source": [
        "## Models"
      ],
      "metadata": {
        "id": "XRx2yTstVmwo"
      }
    },
    {
      "cell_type": "markdown",
      "source": [
        "### Lasso Regressor"
      ],
      "metadata": {
        "id": "_5cK5YffWi28"
      }
    },
    {
      "cell_type": "markdown",
      "source": [
        "All features"
      ],
      "metadata": {
        "id": "pmwWrkARXXI4"
      }
    },
    {
      "cell_type": "code",
      "source": [
        "reg = reg = Lasso().fit(X_train, y_train)\n",
        "\n",
        "y_pred = reg.predict(X_test)\n",
        "\n",
        "mae = mean_absolute_error(y_test, y_pred)\n",
        "mse = mean_squared_error(y_test, y_pred)\n",
        "rmse = mean_squared_error(y_test, y_pred, squared=False)\n",
        "print(\"MAE is {}\".format(mae))\n",
        "print(\"MSE is {}\".format(mse))\n",
        "print(\"RMSE is {}\".format(rmse))"
      ],
      "metadata": {
        "colab": {
          "base_uri": "https://localhost:8080/"
        },
        "id": "wYrrz6pNWiP0",
        "outputId": "a1ea20b8-9629-4a6b-cadb-d0ffa55def8d"
      },
      "execution_count": 17,
      "outputs": [
        {
          "output_type": "stream",
          "name": "stdout",
          "text": [
            "MAE is 24.389867406952465\n",
            "MSE is 1223.6986797098893\n",
            "RMSE is 34.981404770390355\n"
          ]
        }
      ]
    },
    {
      "cell_type": "markdown",
      "source": [
        "PCA Features"
      ],
      "metadata": {
        "id": "Fh7CfHI7XZNu"
      }
    },
    {
      "cell_type": "code",
      "source": [
        "reg = reg = Lasso().fit(X_train_pca, y_train)\n",
        "\n",
        "y_pred_pca = reg.predict(X_test_pca)\n",
        "\n",
        "mae = mean_absolute_error(y_test, y_pred_pca)\n",
        "mse = mean_squared_error(y_test, y_pred_pca)\n",
        "rmse = mean_squared_error(y_test, y_pred_pca, squared=False)\n",
        "print(\"MAE is {}\".format(mae))\n",
        "print(\"MSE is {}\".format(mse))\n",
        "print(\"RMSE is {}\".format(rmse))"
      ],
      "metadata": {
        "colab": {
          "base_uri": "https://localhost:8080/"
        },
        "id": "ttuTaTEwXa7r",
        "outputId": "de742ac7-7c48-4641-e100-75bf03cc3c17"
      },
      "execution_count": 18,
      "outputs": [
        {
          "output_type": "stream",
          "name": "stdout",
          "text": [
            "MAE is 25.114641310760344\n",
            "MSE is 1266.5738046647475\n",
            "RMSE is 35.58895621769129\n"
          ]
        }
      ]
    },
    {
      "cell_type": "markdown",
      "source": [
        "### Support Vector Regressor (SVR)"
      ],
      "metadata": {
        "id": "xPeKgnleZcnN"
      }
    },
    {
      "cell_type": "markdown",
      "source": [
        "All Features"
      ],
      "metadata": {
        "id": "eTXXMp1yKF6b"
      }
    },
    {
      "cell_type": "code",
      "source": [
        "svr = SVR(kernel = 'rbf')\n",
        "svr.fit(X_train, y_train)\n",
        "\n",
        "y_pred = svr.predict(X_test)\n",
        "\n",
        "mae = mean_absolute_error(y_test, y_pred)\n",
        "mse = mean_squared_error(y_test, y_pred)\n",
        "rmse = mean_squared_error(y_test, y_pred, squared=False)\n",
        "print(\"MAE is {}\".format(mae))\n",
        "print(\"MSE is {}\".format(mse))\n",
        "print(\"RMSE is {}\".format(rmse))  "
      ],
      "metadata": {
        "colab": {
          "base_uri": "https://localhost:8080/"
        },
        "id": "HmR5IIRfZiT2",
        "outputId": "8df8f16e-4208-4e6d-a167-2e8cc98e575e"
      },
      "execution_count": 21,
      "outputs": [
        {
          "output_type": "stream",
          "name": "stdout",
          "text": [
            "MAE is 21.731394208170514\n",
            "MSE is 1213.6077842218158\n",
            "RMSE is 34.83687391574933\n"
          ]
        }
      ]
    },
    {
      "cell_type": "markdown",
      "source": [
        "PCA Features"
      ],
      "metadata": {
        "id": "RVUTd9EhKI1-"
      }
    },
    {
      "cell_type": "code",
      "source": [
        "svr = SVR(kernel = 'rbf')\n",
        "svr.fit(X_train_pca, y_train)\n",
        "\n",
        "y_pred_pca = svr.predict(X_test_pca)\n",
        "\n",
        "mae = mean_absolute_error(y_test, y_pred_pca)\n",
        "mse = mean_squared_error(y_test, y_pred_pca)\n",
        "rmse = mean_squared_error(y_test, y_pred_pca, squared=False)\n",
        "print(\"MAE is {}\".format(mae))\n",
        "print(\"MSE is {}\".format(mse))\n",
        "print(\"RMSE is {}\".format(rmse))  "
      ],
      "metadata": {
        "colab": {
          "base_uri": "https://localhost:8080/"
        },
        "id": "XbHDQ9j4KFa_",
        "outputId": "7ee7647c-39b6-4953-f7ff-19c4ed3a436c"
      },
      "execution_count": 22,
      "outputs": [
        {
          "output_type": "stream",
          "name": "stdout",
          "text": [
            "MAE is 23.01729799529238\n",
            "MSE is 1302.6075457917573\n",
            "RMSE is 36.09165479431162\n"
          ]
        }
      ]
    },
    {
      "cell_type": "markdown",
      "source": [
        "### Random Forest Regressor"
      ],
      "metadata": {
        "id": "PrTKLJNmWuUk"
      }
    },
    {
      "cell_type": "markdown",
      "source": [
        "All Features"
      ],
      "metadata": {
        "id": "2cVHVrjAXpxY"
      }
    },
    {
      "cell_type": "code",
      "source": [
        "rf = RandomForestRegressor(n_estimators=500, random_state=42)\n",
        "rf.fit(X_train, y_train)\n",
        "\n",
        "y_pred = rf.predict(X_test)\n",
        "\n",
        "mae = mean_absolute_error(y_test, y_pred)\n",
        "mse = mean_squared_error(y_test, y_pred)\n",
        "rmse = mean_squared_error(y_test, y_pred, squared=False)\n",
        "print(\"MAE is {}\".format(mae))\n",
        "print(\"MSE is {}\".format(mse))\n",
        "print(\"RMSE is {}\".format(rmse))"
      ],
      "metadata": {
        "colab": {
          "base_uri": "https://localhost:8080/"
        },
        "id": "1Yf9El5zWs8-",
        "outputId": "343b04b0-cd73-40cb-cc69-bc5cca49edbf"
      },
      "execution_count": 19,
      "outputs": [
        {
          "output_type": "stream",
          "name": "stdout",
          "text": [
            "MAE is 19.146785536216516\n",
            "MSE is 856.8242122136011\n",
            "RMSE is 29.271559784432416\n"
          ]
        }
      ]
    },
    {
      "cell_type": "markdown",
      "source": [
        "PCA Features"
      ],
      "metadata": {
        "id": "untPbBUjXrwj"
      }
    },
    {
      "cell_type": "code",
      "source": [
        "rf_pca = RandomForestRegressor(n_estimators=500, random_state=42)\n",
        "rf_pca.fit(X_train_pca, y_train)\n",
        "\n",
        "y_pred_pca = rf_pca.predict(X_test_pca)\n",
        "\n",
        "mae = mean_absolute_error(y_test, y_pred)\n",
        "mse = mean_squared_error(y_test, y_pred_pca)\n",
        "rmse = mean_squared_error(y_test, y_pred_pca, squared=False)\n",
        "print(\"MAE is {}\".format(mae))\n",
        "print(\"MSE is {}\".format(mse))\n",
        "print(\"RMSE is {}\".format(rmse))"
      ],
      "metadata": {
        "colab": {
          "base_uri": "https://localhost:8080/"
        },
        "id": "XJpmDPL8XV5N",
        "outputId": "1ed627f6-87c5-49ae-96fc-8d35282673bc"
      },
      "execution_count": 20,
      "outputs": [
        {
          "output_type": "stream",
          "name": "stdout",
          "text": [
            "MAE is 19.146785536216516\n",
            "MSE is 1002.0270933848586\n",
            "RMSE is 31.65481153608182\n"
          ]
        }
      ]
    },
    {
      "cell_type": "markdown",
      "source": [
        "### XGBoost Regressor"
      ],
      "metadata": {
        "id": "9lU9JU8CX8hK"
      }
    },
    {
      "cell_type": "markdown",
      "source": [
        "Cross-Validation"
      ],
      "metadata": {
        "id": "YcBTnuD3Y52l"
      }
    },
    {
      "cell_type": "code",
      "source": [
        "param_grid = {'max_depth': [2, 5, 8], 'n_estimators': [100, 200, 300, 400]}\n",
        "xgb = xgboost.XGBRegressor()\n",
        "grid = GridSearchCV(xgb, param_grid, cv=3, n_jobs=3)\n",
        "grid.fit(X_train, y_train)\n",
        "grid.best_estimator_"
      ],
      "metadata": {
        "colab": {
          "base_uri": "https://localhost:8080/"
        },
        "id": "A_6laKvdY8DN",
        "outputId": "56d7300b-126f-47e0-827d-107e66bf698b"
      },
      "execution_count": 26,
      "outputs": [
        {
          "output_type": "stream",
          "name": "stdout",
          "text": [
            "[16:31:02] WARNING: /workspace/src/objective/regression_obj.cu:152: reg:linear is now deprecated in favor of reg:squarederror.\n"
          ]
        },
        {
          "output_type": "execute_result",
          "data": {
            "text/plain": [
              "XGBRegressor(max_depth=8)"
            ]
          },
          "metadata": {},
          "execution_count": 26
        }
      ]
    },
    {
      "cell_type": "markdown",
      "source": [
        "All Features"
      ],
      "metadata": {
        "id": "hdmonmlxYV5E"
      }
    },
    {
      "cell_type": "code",
      "source": [
        "xgb = xgboost.XGBRegressor(n_estimators=300, max_depth=8)\n",
        "xgb.fit(X_train, y_train)\n",
        "\n",
        "y_pred = xgb.predict(X_test)\n",
        "\n",
        "mae = mean_absolute_error(y_test, y_pred)\n",
        "mse = mean_squared_error(y_test, y_pred)\n",
        "rmse = mean_squared_error(y_test, y_pred, squared=False)\n",
        "print(\"MAE is {}\".format(mae))\n",
        "print(\"MSE is {}\".format(mse))\n",
        "print(\"RMSE is {}\".format(rmse))"
      ],
      "metadata": {
        "colab": {
          "base_uri": "https://localhost:8080/"
        },
        "id": "XOAwR-ZXX1Iz",
        "outputId": "d0622e23-821d-4378-8f9d-25ec8f0b9208"
      },
      "execution_count": 27,
      "outputs": [
        {
          "output_type": "stream",
          "name": "stdout",
          "text": [
            "[16:31:09] WARNING: /workspace/src/objective/regression_obj.cu:152: reg:linear is now deprecated in favor of reg:squarederror.\n",
            "MAE is 18.504515243940467\n",
            "MSE is 817.8963414383003\n",
            "RMSE is 28.598887066427956\n"
          ]
        }
      ]
    },
    {
      "cell_type": "markdown",
      "source": [
        "PCA Features"
      ],
      "metadata": {
        "id": "sWCrUBNKYa0s"
      }
    },
    {
      "cell_type": "code",
      "source": [
        "xgb = xgboost.XGBRegressor(n_estimators=300, max_depth=8)\n",
        "xgb.fit(X_train_pca, y_train)\n",
        "\n",
        "y_pred_pca = xgb.predict(X_test_pca)\n",
        "\n",
        "mae = mean_absolute_error(y_test, y_pred_pca)\n",
        "mse = mean_squared_error(y_test, y_pred_pca)\n",
        "rmse = mean_squared_error(y_test, y_pred_pca, squared=False)\n",
        "print(\"MAE is {}\".format(mae))\n",
        "print(\"MSE is {}\".format(mse))\n",
        "print(\"RMSE is {}\".format(rmse))"
      ],
      "metadata": {
        "colab": {
          "base_uri": "https://localhost:8080/"
        },
        "id": "wUVVKyIAYX43",
        "outputId": "157eed88-6ad2-4afc-db4c-dc0d550a59fd"
      },
      "execution_count": 28,
      "outputs": [
        {
          "output_type": "stream",
          "name": "stdout",
          "text": [
            "[16:31:20] WARNING: /workspace/src/objective/regression_obj.cu:152: reg:linear is now deprecated in favor of reg:squarederror.\n",
            "MAE is 21.566455250158338\n",
            "MSE is 1022.8734512297178\n",
            "RMSE is 31.982392831520876\n"
          ]
        }
      ]
    },
    {
      "cell_type": "markdown",
      "source": [
        "Recursive Feature Elimination (RFE)"
      ],
      "metadata": {
        "id": "CcpbuSgEYyye"
      }
    },
    {
      "cell_type": "markdown",
      "source": [
        "Selecting 10 features of the dataset the combination of which contributes the most to the prediction made by the model"
      ],
      "metadata": {
        "id": "nLoZFOreL2le"
      }
    },
    {
      "cell_type": "code",
      "source": [
        "xgb = xgboost.XGBRegressor(n_estimators=300, max_depth=8)\n",
        "rfe = RFE(xgb, n_features_to_select=10)\n",
        "X_rfe = rfe.fit(X_train, y_train)              \n",
        "temp = pd.Series(rfe.support_,index = X.columns)\n",
        "selected_features_rfe = temp[temp==True].index\n",
        "print(selected_features_rfe)\n",
        "\n",
        "y_pred = rfe.predict(X_test)\n",
        "\n",
        "mae = mean_absolute_error(y_test, y_pred)\n",
        "mse = mean_squared_error(y_test, y_pred)\n",
        "rmse = mean_squared_error(y_test, y_pred, squared=False)\n",
        "print(\"MAE is {}\".format(mae))\n",
        "print(\"MSE is {}\".format(mse))\n",
        "print(\"RMSE is {}\".format(rmse))"
      ],
      "metadata": {
        "colab": {
          "base_uri": "https://localhost:8080/"
        },
        "id": "WX8ALGRzYx8T",
        "outputId": "91e72ff4-758b-4a2a-ad93-6870723c71c0"
      },
      "execution_count": 29,
      "outputs": [
        {
          "output_type": "stream",
          "name": "stdout",
          "text": [
            "[16:31:42] WARNING: /workspace/src/objective/regression_obj.cu:152: reg:linear is now deprecated in favor of reg:squarederror.\n",
            "[16:31:50] WARNING: /workspace/src/objective/regression_obj.cu:152: reg:linear is now deprecated in favor of reg:squarederror.\n",
            "[16:31:57] WARNING: /workspace/src/objective/regression_obj.cu:152: reg:linear is now deprecated in favor of reg:squarederror.\n",
            "[16:32:06] WARNING: /workspace/src/objective/regression_obj.cu:152: reg:linear is now deprecated in favor of reg:squarederror.\n",
            "[16:32:15] WARNING: /workspace/src/objective/regression_obj.cu:152: reg:linear is now deprecated in favor of reg:squarederror.\n",
            "[16:32:23] WARNING: /workspace/src/objective/regression_obj.cu:152: reg:linear is now deprecated in favor of reg:squarederror.\n",
            "[16:32:32] WARNING: /workspace/src/objective/regression_obj.cu:152: reg:linear is now deprecated in favor of reg:squarederror.\n",
            "[16:32:40] WARNING: /workspace/src/objective/regression_obj.cu:152: reg:linear is now deprecated in favor of reg:squarederror.\n",
            "[16:32:50] WARNING: /workspace/src/objective/regression_obj.cu:152: reg:linear is now deprecated in favor of reg:squarederror.\n",
            "[16:32:57] WARNING: /workspace/src/objective/regression_obj.cu:152: reg:linear is now deprecated in favor of reg:squarederror.\n",
            "[16:33:04] WARNING: /workspace/src/objective/regression_obj.cu:152: reg:linear is now deprecated in favor of reg:squarederror.\n",
            "[16:33:11] WARNING: /workspace/src/objective/regression_obj.cu:152: reg:linear is now deprecated in favor of reg:squarederror.\n",
            "[16:33:17] WARNING: /workspace/src/objective/regression_obj.cu:152: reg:linear is now deprecated in favor of reg:squarederror.\n",
            "[16:33:23] WARNING: /workspace/src/objective/regression_obj.cu:152: reg:linear is now deprecated in favor of reg:squarederror.\n",
            "[16:33:29] WARNING: /workspace/src/objective/regression_obj.cu:152: reg:linear is now deprecated in favor of reg:squarederror.\n",
            "[16:33:35] WARNING: /workspace/src/objective/regression_obj.cu:152: reg:linear is now deprecated in favor of reg:squarederror.\n",
            "[16:33:41] WARNING: /workspace/src/objective/regression_obj.cu:152: reg:linear is now deprecated in favor of reg:squarederror.\n",
            "[16:33:47] WARNING: /workspace/src/objective/regression_obj.cu:152: reg:linear is now deprecated in favor of reg:squarederror.\n",
            "[16:33:53] WARNING: /workspace/src/objective/regression_obj.cu:152: reg:linear is now deprecated in favor of reg:squarederror.\n",
            "[16:33:59] WARNING: /workspace/src/objective/regression_obj.cu:152: reg:linear is now deprecated in favor of reg:squarederror.\n",
            "[16:34:05] WARNING: /workspace/src/objective/regression_obj.cu:152: reg:linear is now deprecated in favor of reg:squarederror.\n",
            "[16:34:10] WARNING: /workspace/src/objective/regression_obj.cu:152: reg:linear is now deprecated in favor of reg:squarederror.\n",
            "[16:34:15] WARNING: /workspace/src/objective/regression_obj.cu:152: reg:linear is now deprecated in favor of reg:squarederror.\n",
            "[16:34:20] WARNING: /workspace/src/objective/regression_obj.cu:152: reg:linear is now deprecated in favor of reg:squarederror.\n",
            "[16:34:25] WARNING: /workspace/src/objective/regression_obj.cu:152: reg:linear is now deprecated in favor of reg:squarederror.\n",
            "[16:34:29] WARNING: /workspace/src/objective/regression_obj.cu:152: reg:linear is now deprecated in favor of reg:squarederror.\n",
            "[16:34:34] WARNING: /workspace/src/objective/regression_obj.cu:152: reg:linear is now deprecated in favor of reg:squarederror.\n",
            "[16:34:39] WARNING: /workspace/src/objective/regression_obj.cu:152: reg:linear is now deprecated in favor of reg:squarederror.\n",
            "[16:34:44] WARNING: /workspace/src/objective/regression_obj.cu:152: reg:linear is now deprecated in favor of reg:squarederror.\n",
            "[16:34:48] WARNING: /workspace/src/objective/regression_obj.cu:152: reg:linear is now deprecated in favor of reg:squarederror.\n",
            "[16:34:52] WARNING: /workspace/src/objective/regression_obj.cu:152: reg:linear is now deprecated in favor of reg:squarederror.\n",
            "[16:34:57] WARNING: /workspace/src/objective/regression_obj.cu:152: reg:linear is now deprecated in favor of reg:squarederror.\n",
            "[16:35:01] WARNING: /workspace/src/objective/regression_obj.cu:152: reg:linear is now deprecated in favor of reg:squarederror.\n",
            "[16:35:05] WARNING: /workspace/src/objective/regression_obj.cu:152: reg:linear is now deprecated in favor of reg:squarederror.\n",
            "[16:35:09] WARNING: /workspace/src/objective/regression_obj.cu:152: reg:linear is now deprecated in favor of reg:squarederror.\n",
            "[16:35:12] WARNING: /workspace/src/objective/regression_obj.cu:152: reg:linear is now deprecated in favor of reg:squarederror.\n",
            "[16:35:16] WARNING: /workspace/src/objective/regression_obj.cu:152: reg:linear is now deprecated in favor of reg:squarederror.\n",
            "[16:35:19] WARNING: /workspace/src/objective/regression_obj.cu:152: reg:linear is now deprecated in favor of reg:squarederror.\n",
            "[16:35:22] WARNING: /workspace/src/objective/regression_obj.cu:152: reg:linear is now deprecated in favor of reg:squarederror.\n",
            "[16:35:26] WARNING: /workspace/src/objective/regression_obj.cu:152: reg:linear is now deprecated in favor of reg:squarederror.\n",
            "[16:35:29] WARNING: /workspace/src/objective/regression_obj.cu:152: reg:linear is now deprecated in favor of reg:squarederror.\n",
            "[16:35:32] WARNING: /workspace/src/objective/regression_obj.cu:152: reg:linear is now deprecated in favor of reg:squarederror.\n",
            "[16:35:35] WARNING: /workspace/src/objective/regression_obj.cu:152: reg:linear is now deprecated in favor of reg:squarederror.\n",
            "[16:35:38] WARNING: /workspace/src/objective/regression_obj.cu:152: reg:linear is now deprecated in favor of reg:squarederror.\n",
            "[16:35:40] WARNING: /workspace/src/objective/regression_obj.cu:152: reg:linear is now deprecated in favor of reg:squarederror.\n",
            "[16:35:43] WARNING: /workspace/src/objective/regression_obj.cu:152: reg:linear is now deprecated in favor of reg:squarederror.\n",
            "[16:35:46] WARNING: /workspace/src/objective/regression_obj.cu:152: reg:linear is now deprecated in favor of reg:squarederror.\n",
            "[16:35:48] WARNING: /workspace/src/objective/regression_obj.cu:152: reg:linear is now deprecated in favor of reg:squarederror.\n",
            "[16:35:51] WARNING: /workspace/src/objective/regression_obj.cu:152: reg:linear is now deprecated in favor of reg:squarederror.\n",
            "[16:35:53] WARNING: /workspace/src/objective/regression_obj.cu:152: reg:linear is now deprecated in favor of reg:squarederror.\n",
            "[16:35:56] WARNING: /workspace/src/objective/regression_obj.cu:152: reg:linear is now deprecated in favor of reg:squarederror.\n",
            "[16:35:58] WARNING: /workspace/src/objective/regression_obj.cu:152: reg:linear is now deprecated in favor of reg:squarederror.\n",
            "[16:36:00] WARNING: /workspace/src/objective/regression_obj.cu:152: reg:linear is now deprecated in favor of reg:squarederror.\n",
            "[16:36:03] WARNING: /workspace/src/objective/regression_obj.cu:152: reg:linear is now deprecated in favor of reg:squarederror.\n",
            "[16:36:04] WARNING: /workspace/src/objective/regression_obj.cu:152: reg:linear is now deprecated in favor of reg:squarederror.\n",
            "Index(['bathroom', 'neighbourhood_cleansed_ΑΚΡΟΠΟΛΗ',\n",
            "       'neighbourhood_cleansed_ΕΜΠΟΡΙΚΟ ΤΡΙΓΩΝΟ-ΠΛΑΚΑ',\n",
            "       'neighbourhood_cleansed_ΖΑΠΠΕΙΟ', 'neighbourhood_cleansed_ΘΗΣΕΙΟ',\n",
            "       'neighbourhood_cleansed_ΚΟΛΩΝΑΚΙ',\n",
            "       'neighbourhood_cleansed_ΚΟΥΚΑΚΙ-ΜΑΚΡΥΓΙΑΝΝΗ',\n",
            "       'room_type_Entire home/apt', 'room_type_Shared room',\n",
            "       'bathroom_type_private'],\n",
            "      dtype='object')\n",
            "MAE is 23.44295066265218\n",
            "MSE is 1176.557799582893\n",
            "RMSE is 34.30098831787348\n"
          ]
        }
      ]
    },
    {
      "cell_type": "markdown",
      "source": [
        "## Saving the Trained Model (<i>Pickle</i> library)"
      ],
      "metadata": {
        "id": "o7KQxRzxcXYV"
      }
    },
    {
      "cell_type": "code",
      "source": [
        "pickle.dump(xgb, open('trained_model.sav', 'wb'))"
      ],
      "metadata": {
        "id": "9JpD8C9yd_IZ"
      },
      "execution_count": null,
      "outputs": []
    }
  ],
  "metadata": {
    "colab": {
      "collapsed_sections": [
        "BD29PntRVKAf",
        "XRx2yTstVmwo",
        "_5cK5YffWi28",
        "xPeKgnleZcnN",
        "PrTKLJNmWuUk",
        "9lU9JU8CX8hK",
        "o7KQxRzxcXYV"
      ],
      "provenance": []
    },
    "kernelspec": {
      "display_name": "Python 3",
      "name": "python3"
    },
    "language_info": {
      "name": "python"
    },
    "accelerator": "GPU",
    "gpuClass": "standard"
  },
  "nbformat": 4,
  "nbformat_minor": 0
}